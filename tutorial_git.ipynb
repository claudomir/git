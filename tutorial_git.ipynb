{
 "cells": [
  {
   "cell_type": "markdown",
   "metadata": {},
   "source": [
    "#### MANUAL DO GIT\n",
    "1) INSTALAÇÃO NO UBUNTU\n",
    "\n",
    "    apt-get install git"
   ]
  },
  {
   "cell_type": "markdown",
   "metadata": {},
   "source": [
    "2) CONFIGURAÇÃO DO USUÁRIO E E-MAIL\n",
    " \n",
    "```\n",
    "git config --global user.name \"usuário\"\n",
    "git config --global user.email \"email\"\n",
    "```\n",
    "    \n",
    "    OBS: Após esses comandos, o diretório .gitconfig é criado no /home"
   ]
  },
  {
   "cell_type": "markdown",
   "metadata": {},
   "source": [
    "3) CLONANDO DIRETÓRIO DO GITHUB\n",
    "\n",
    "- Para executar essa etapa, necessita-se primeiramente criar um projeto no GitHub. Neste caso, foi criado no GitHub, o projeto 'git'\n",
    "\n",
    "COMANDO\n",
    "```\n",
    "git clone https://github.com/claudomir/git\n",
    "```\n",
    "\n",
    "cd git - entra no diretório criado\n",
    "\n",
    "git status  - verifica o status do diretório\n"
   ]
  },
  {
   "cell_type": "markdown",
   "metadata": {},
   "source": [
    "4) UPLOAD DO ARQUIVO NO PROJETO\n",
    "- Para realizar essa ação, há a necessidade da execução de três comandos:\n",
    "\n",
    "    4.1 git add tutorial_git.ipynb\n",
    "    \n",
    "    4.2 git commit -m \"Aicionando o arquivo tutorial_git.ipynb\"\n",
    "    \n",
    "    4.3 git push"
   ]
  },
  {
   "cell_type": "code",
   "execution_count": null,
   "metadata": {},
   "outputs": [],
   "source": []
  }
 ],
 "metadata": {
  "kernelspec": {
   "display_name": "Python 3",
   "language": "python",
   "name": "python3"
  },
  "language_info": {
   "codemirror_mode": {
    "name": "ipython",
    "version": 3
   },
   "file_extension": ".py",
   "mimetype": "text/x-python",
   "name": "python",
   "nbconvert_exporter": "python",
   "pygments_lexer": "ipython3",
   "version": "3.6.4"
  }
 },
 "nbformat": 4,
 "nbformat_minor": 2
}
